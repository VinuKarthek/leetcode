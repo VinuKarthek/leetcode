{
 "cells": [
  {
   "cell_type": "code",
   "execution_count": 40,
   "metadata": {},
   "outputs": [
    {
     "data": {
      "text/plain": [
       "0.05978459999982988"
      ]
     },
     "execution_count": 40,
     "metadata": {},
     "output_type": "execute_result"
    }
   ],
   "source": [
    "import timeit\n",
    "# timeit.timeit('\"-\".join(str(n) for n in range(100))', number=10000)\n",
    "timeit.timeit('char in text', setup='text = \"sample string\"; char = \"g\"')\n"
   ]
  },
  {
   "cell_type": "code",
   "execution_count": 50,
   "metadata": {},
   "outputs": [],
   "source": [
    "a = [2,3,6,2,7,5]\n",
    "l = len(a)"
   ]
  },
  {
   "cell_type": "code",
   "execution_count": 46,
   "metadata": {},
   "outputs": [
    {
     "name": "stdout",
     "output_type": "stream",
     "text": [
      "Left to Right\n",
      "2\n",
      "3\n",
      "6\n",
      "2\n",
      "7\n",
      "Right to Left\n",
      "7\n",
      "2\n",
      "6\n",
      "3\n",
      "2\n",
      "0.005165900000065449\n"
     ]
    }
   ],
   "source": [
    "print('Left to Right')\n",
    "for i in range(l):\n",
    "    print(a[i])\n",
    "\n",
    "print('Right to Left')\n",
    "for i in range(l):\n",
    "    print(a[l-i-1])\n",
    "\n",
    "\n",
    "s = \"\"\"\\\n",
    "for i in range(l):\n",
    "    a[i]\n",
    "\"\"\"\n",
    "t= timeit.timeit(stmt=s, number=10000, globals= globals())\n",
    "print(t)"
   ]
  },
  {
   "cell_type": "code",
   "execution_count": 51,
   "metadata": {},
   "outputs": [
    {
     "name": "stdout",
     "output_type": "stream",
     "text": [
      "Left to Right\n",
      "0 -> 2\n",
      "1 -> 3\n",
      "2 -> 6\n",
      "3 -> 2\n",
      "4 -> 7\n",
      "5 -> 5\n",
      "Right to Left\n",
      "5 -> 5\n",
      "4 -> 7\n",
      "3 -> 2\n",
      "2 -> 6\n",
      "1 -> 3\n",
      "0 -> 2\n",
      "0.018876099999943108\n"
     ]
    }
   ],
   "source": [
    "print('Left to Right')\n",
    "for idx, left_val in enumerate(a):\n",
    "    print(idx,'->',left_val)\n",
    "\n",
    "print('Right to Left')\n",
    "for idx, left_val in enumerate(a):\n",
    "    left_val = a[l-idx-1]\n",
    "    print(l-idx-1,'->',left_val)\n",
    "\n",
    "s = \"\"\"\\\n",
    "for idx, left_val in enumerate(a):\n",
    "    \n",
    "    a[l-idx-1]\n",
    "    left_val\n",
    "\n",
    "\"\"\"\n",
    "t= timeit.timeit(stmt=s, number=10000, globals= globals())\n",
    "print(t)"
   ]
  },
  {
   "cell_type": "code",
   "execution_count": 48,
   "metadata": {},
   "outputs": [
    {
     "name": "stdout",
     "output_type": "stream",
     "text": [
      "2 -> 5\n",
      "3 -> 7\n",
      "6 -> 2\n",
      "2 -> 6\n",
      "7 -> 3\n",
      "5 -> 2\n",
      "0.006875100000115708\n"
     ]
    }
   ],
   "source": [
    "for l, r in zip(a, a[::-1]):\n",
    "    print(l,'->',r)\n",
    "\n",
    "s = \"\"\"\\\n",
    "for l, r in zip(a, a[::-1]):\n",
    "    l\n",
    "    r\n",
    "\"\"\"\n",
    "t= timeit.timeit(stmt=s, number=10000, globals= globals())\n",
    "print(t)"
   ]
  }
 ],
 "metadata": {
  "kernelspec": {
   "display_name": "Python 3.9.7 ('base')",
   "language": "python",
   "name": "python3"
  },
  "language_info": {
   "codemirror_mode": {
    "name": "ipython",
    "version": 3
   },
   "file_extension": ".py",
   "mimetype": "text/x-python",
   "name": "python",
   "nbconvert_exporter": "python",
   "pygments_lexer": "ipython3",
   "version": "3.9.7"
  },
  "orig_nbformat": 4,
  "vscode": {
   "interpreter": {
    "hash": "8ad18e4381ee8f073e053e45df51a46aac02137ecceda498e8fc3bf83030a7dd"
   }
  }
 },
 "nbformat": 4,
 "nbformat_minor": 2
}
