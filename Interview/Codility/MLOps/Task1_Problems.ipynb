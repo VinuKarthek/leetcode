{
 "cells": [
  {
   "cell_type": "code",
   "execution_count": 2,
   "metadata": {},
   "outputs": [],
   "source": [
    "def solution1(A, B):\n",
    "    def count_pieces(length, stick1, stick2):\n",
    "        # Returns the total number of pieces of length `length` that can be cut\n",
    "        # from both sticks, taking into account any leftover pieces\n",
    "        return (stick1 // length) + (stick2 // length)\n",
    "\n",
    "    def can_form_square(length, stick1, stick2):\n",
    "        # Returns True if it's possible to form a square with side length `length`\n",
    "        # by cutting both sticks into pieces of length `length`\n",
    "        return count_pieces(length, stick1, stick2) >= 4\n",
    "\n",
    "    # Try all possible lengths of the square, starting from the longest\n",
    "    for length in range(min(A, B), 0, -1):\n",
    "        if can_form_square(length, A, B):\n",
    "            return length\n",
    "\n",
    "    return 0\n",
    "\n",
    "\n",
    "def answer_solution1():\n",
    "    print(\"Put your answer for solution 1 here\")\n",
    "\n",
    "\n"
   ]
  },
  {
   "cell_type": "code",
   "execution_count": 22,
   "metadata": {},
   "outputs": [
    {
     "name": "stdout",
     "output_type": "stream",
     "text": [
      "1\n",
      "4\n",
      "1\n",
      "0\n"
     ]
    }
   ],
   "source": [
    "print(solution1(1,9))\n",
    "print(solution1(9,9))\n",
    "print(solution1(5,2))\n",
    "print(solution1(1,1))\n"
   ]
  },
  {
   "cell_type": "code",
   "execution_count": 20,
   "metadata": {},
   "outputs": [],
   "source": [
    "# ------------ Solution 2 ------------\n",
    "def solution2(A, B):\n",
    "    def can_form_square(side_length):\n",
    "        # Calculate the number of sticks of length `side_length` we can cut from the two sticks\n",
    "        num_a = A // side_length\n",
    "        num_b = B // side_length\n",
    "        return num_a + num_b >= 4\n",
    "\n",
    "    # Binary search for the largest possible square\n",
    "    lo, hi = 0, B\n",
    "    while lo <= hi:\n",
    "        mid = (lo + hi) // 2\n",
    "        if can_form_square(mid):\n",
    "            lo = mid + 1\n",
    "        else:\n",
    "            hi = mid - 1\n",
    "\n",
    "    return hi\n",
    "\n",
    "\n",
    "def answer_solution2():\n",
    "    print(\"Put your answer for solution 2 here\")\n",
    "\n",
    "\n"
   ]
  },
  {
   "cell_type": "code",
   "execution_count": 23,
   "metadata": {},
   "outputs": [
    {
     "name": "stdout",
     "output_type": "stream",
     "text": [
      "2\n",
      "4\n",
      "1\n"
     ]
    },
    {
     "ename": "ZeroDivisionError",
     "evalue": "integer division or modulo by zero",
     "output_type": "error",
     "traceback": [
      "\u001b[1;31m---------------------------------------------------------------------------\u001b[0m",
      "\u001b[1;31mZeroDivisionError\u001b[0m                         Traceback (most recent call last)",
      "Cell \u001b[1;32mIn[23], line 4\u001b[0m\n\u001b[0;32m      2\u001b[0m \u001b[38;5;28mprint\u001b[39m(solution2(\u001b[38;5;241m9\u001b[39m,\u001b[38;5;241m9\u001b[39m))\n\u001b[0;32m      3\u001b[0m \u001b[38;5;28mprint\u001b[39m(solution2(\u001b[38;5;241m5\u001b[39m,\u001b[38;5;241m2\u001b[39m))\n\u001b[1;32m----> 4\u001b[0m \u001b[38;5;28mprint\u001b[39m(solution2(\u001b[38;5;241m1\u001b[39m,\u001b[38;5;241m1\u001b[39m))\n",
      "Cell \u001b[1;32mIn[20], line 13\u001b[0m, in \u001b[0;36msolution2\u001b[1;34m(A, B)\u001b[0m\n\u001b[0;32m     11\u001b[0m \u001b[38;5;28;01mwhile\u001b[39;00m lo \u001b[38;5;241m<\u001b[39m\u001b[38;5;241m=\u001b[39m hi:\n\u001b[0;32m     12\u001b[0m     mid \u001b[38;5;241m=\u001b[39m (lo \u001b[38;5;241m+\u001b[39m hi) \u001b[38;5;241m/\u001b[39m\u001b[38;5;241m/\u001b[39m \u001b[38;5;241m2\u001b[39m\n\u001b[1;32m---> 13\u001b[0m     \u001b[38;5;28;01mif\u001b[39;00m can_form_square(mid):\n\u001b[0;32m     14\u001b[0m         lo \u001b[38;5;241m=\u001b[39m mid \u001b[38;5;241m+\u001b[39m \u001b[38;5;241m1\u001b[39m\n\u001b[0;32m     15\u001b[0m     \u001b[38;5;28;01melse\u001b[39;00m:\n",
      "Cell \u001b[1;32mIn[20], line 5\u001b[0m, in \u001b[0;36msolution2.<locals>.can_form_square\u001b[1;34m(side_length)\u001b[0m\n\u001b[0;32m      3\u001b[0m \u001b[38;5;28;01mdef\u001b[39;00m \u001b[38;5;21mcan_form_square\u001b[39m(side_length):\n\u001b[0;32m      4\u001b[0m     \u001b[38;5;66;03m# Calculate the number of sticks of length `side_length` we can cut from the two sticks\u001b[39;00m\n\u001b[1;32m----> 5\u001b[0m     num_a \u001b[38;5;241m=\u001b[39m A \u001b[38;5;241m/\u001b[39m\u001b[38;5;241m/\u001b[39m side_length\n\u001b[0;32m      6\u001b[0m     num_b \u001b[38;5;241m=\u001b[39m B \u001b[38;5;241m/\u001b[39m\u001b[38;5;241m/\u001b[39m side_length\n\u001b[0;32m      7\u001b[0m     \u001b[38;5;28;01mreturn\u001b[39;00m num_a \u001b[38;5;241m+\u001b[39m num_b \u001b[38;5;241m>\u001b[39m\u001b[38;5;241m=\u001b[39m \u001b[38;5;241m4\u001b[39m\n",
      "\u001b[1;31mZeroDivisionError\u001b[0m: integer division or modulo by zero"
     ]
    }
   ],
   "source": [
    "print(solution2(1,9))\n",
    "print(solution2(9,9))\n",
    "print(solution2(5,2))\n",
    "print(solution2(1,1))\n"
   ]
  },
  {
   "cell_type": "code",
   "execution_count": null,
   "metadata": {},
   "outputs": [],
   "source": [
    "# ------------ Solution 3 ------------\n",
    "def solution3(A, B):\n",
    "    # Swap A and B if B is greater than A, so that A is always the larger stick\n",
    "    if B > A:\n",
    "        A, B = B, A\n",
    "\n",
    "    # Calculate the longest possible square side that can be constructed from A and B\n",
    "    longest_side = max(A // 4, max(min(A // 3, B), B // 2))\n",
    "\n",
    "    # Return the longest side of the square\n",
    "    return longest_side\n",
    "\n",
    "\n",
    "def answer_solution3():\n",
    "    print(\"Put your answer for solution 3 here\")\n",
    "\n",
    "\n",
    "# ------------ Solution 4 ------------\n",
    "def solution4(A, B):\n",
    "    result = 1\n",
    "    # Try all possible stick lengths, starting from the maximum\n",
    "    for length in range(1, A + B):\n",
    "        # Calculate the number of pieces we can get from each stick\n",
    "        pieces_A = A // length\n",
    "        pieces_B = B // length\n",
    "\n",
    "        # If we can get at least four pieces from each stick, return the length\n",
    "        if pieces_A + pieces_B >= 4:\n",
    "            result = max(result, length)\n",
    "    # Return the calculated result\n",
    "    return result\n",
    "\n",
    "\n",
    "def answer_solution4():\n",
    "    print(\"Put your answer for solution 4 here\")\n",
    "\n",
    "\n",
    "# ------------ Solution 5 ------------\n",
    "def solution5(A, B):\n",
    "    # Calculate the maximum number of sticks of length (A/4) that can be obtained from A\n",
    "    case1 = A // 4\n",
    "\n",
    "    # Calculate the maximum number of sticks of length min(A/3, B) that can be obtained from A and B\n",
    "    case2 = min(A // 3, B)\n",
    "\n",
    "    # Calculate the maximum number of sticks of length (B/2) that can be obtained from B\n",
    "    case3 = B // 2\n",
    "\n",
    "    # Return the largest number of sticks that can be obtained from the three cases\n",
    "    return max(case1, case2, case3)\n",
    "\n",
    "\n",
    "def answer_solution5():\n",
    "    print(\"Put your answer for solution 5 here\")\n",
    "\n",
    "\n",
    "# ------------ Solution 6 ------------\n",
    "def solution6(A, B):\n",
    "    # initialize variable to keep track of maximum square size\n",
    "    maxSize = 0\n",
    "\n",
    "    # check if it's possible to create 4 sticks of equal length with A and B\n",
    "    # and update maxSize accordingly\n",
    "    maxSize = max(maxSize, B // 4)\n",
    "\n",
    "    # check if it's possible to create 4 sticks of equal length with B divided into 3 parts\n",
    "    # and update maxSize accordingly if A is long enough\n",
    "    if A >= B // 3:\n",
    "        maxSize = max(maxSize, B // 3)\n",
    "\n",
    "    # check if it's possible to create 4 sticks of equal length with B divided into 2 parts\n",
    "    # and update maxSize accordingly if A is long enough\n",
    "    if A >= 2 * (B // 2):\n",
    "        maxSize = max(maxSize, B // 2)\n",
    "\n",
    "    # check if it's possible to create 4 sticks of equal length with A divided into 3 parts\n",
    "    # and update maxSize accordingly if B is long enough\n",
    "    if B >= A // 3:\n",
    "        maxSize = max(maxSize, A // 3)\n",
    "\n",
    "    # check if it's possible to create 4 sticks of equal length with A\n",
    "    # and update maxSize accordingly\n",
    "    maxSize = max(maxSize, A // 4)\n",
    "\n",
    "    return maxSize\n",
    "\n",
    "\n",
    "def answer_solution6():\n",
    "    print(\"Put your answer for solution 6 here\")"
   ]
  },
  {
   "cell_type": "code",
   "execution_count": 50,
   "metadata": {},
   "outputs": [],
   "source": [
    "values = [[9,1],[1,2],[9,9],[5,2],[1,1],[100,101],[3,1000000]]\n"
   ]
  },
  {
   "cell_type": "code",
   "execution_count": 48,
   "metadata": {},
   "outputs": [
    {
     "ename": "ZeroDivisionError",
     "evalue": "integer division or modulo by zero",
     "output_type": "error",
     "traceback": [
      "\u001b[1;31m---------------------------------------------------------------------------\u001b[0m",
      "\u001b[1;31mZeroDivisionError\u001b[0m                         Traceback (most recent call last)",
      "Cell \u001b[1;32mIn[48], line 2\u001b[0m\n\u001b[0;32m      1\u001b[0m \u001b[38;5;28;01mfor\u001b[39;00m value \u001b[38;5;129;01min\u001b[39;00m values:\n\u001b[1;32m----> 2\u001b[0m     \u001b[38;5;28mprint\u001b[39m(solution2(value[\u001b[38;5;241m0\u001b[39m],value[\u001b[38;5;241m1\u001b[39m]), solution1(value[\u001b[38;5;241m0\u001b[39m],value[\u001b[38;5;241m1\u001b[39m]), solution2(value[\u001b[38;5;241m0\u001b[39m],value[\u001b[38;5;241m1\u001b[39m])\u001b[38;5;241m==\u001b[39msolution1(value[\u001b[38;5;241m0\u001b[39m],value[\u001b[38;5;241m1\u001b[39m]), value)\n",
      "Cell \u001b[1;32mIn[20], line 13\u001b[0m, in \u001b[0;36msolution2\u001b[1;34m(A, B)\u001b[0m\n\u001b[0;32m     11\u001b[0m \u001b[38;5;28;01mwhile\u001b[39;00m lo \u001b[38;5;241m<\u001b[39m\u001b[38;5;241m=\u001b[39m hi:\n\u001b[0;32m     12\u001b[0m     mid \u001b[38;5;241m=\u001b[39m (lo \u001b[38;5;241m+\u001b[39m hi) \u001b[38;5;241m/\u001b[39m\u001b[38;5;241m/\u001b[39m \u001b[38;5;241m2\u001b[39m\n\u001b[1;32m---> 13\u001b[0m     \u001b[38;5;28;01mif\u001b[39;00m can_form_square(mid):\n\u001b[0;32m     14\u001b[0m         lo \u001b[38;5;241m=\u001b[39m mid \u001b[38;5;241m+\u001b[39m \u001b[38;5;241m1\u001b[39m\n\u001b[0;32m     15\u001b[0m     \u001b[38;5;28;01melse\u001b[39;00m:\n",
      "Cell \u001b[1;32mIn[20], line 5\u001b[0m, in \u001b[0;36msolution2.<locals>.can_form_square\u001b[1;34m(side_length)\u001b[0m\n\u001b[0;32m      3\u001b[0m \u001b[38;5;28;01mdef\u001b[39;00m \u001b[38;5;21mcan_form_square\u001b[39m(side_length):\n\u001b[0;32m      4\u001b[0m     \u001b[38;5;66;03m# Calculate the number of sticks of length `side_length` we can cut from the two sticks\u001b[39;00m\n\u001b[1;32m----> 5\u001b[0m     num_a \u001b[38;5;241m=\u001b[39m A \u001b[38;5;241m/\u001b[39m\u001b[38;5;241m/\u001b[39m side_length\n\u001b[0;32m      6\u001b[0m     num_b \u001b[38;5;241m=\u001b[39m B \u001b[38;5;241m/\u001b[39m\u001b[38;5;241m/\u001b[39m side_length\n\u001b[0;32m      7\u001b[0m     \u001b[38;5;28;01mreturn\u001b[39;00m num_a \u001b[38;5;241m+\u001b[39m num_b \u001b[38;5;241m>\u001b[39m\u001b[38;5;241m=\u001b[39m \u001b[38;5;241m4\u001b[39m\n",
      "\u001b[1;31mZeroDivisionError\u001b[0m: integer division or modulo by zero"
     ]
    }
   ],
   "source": [
    "for value in values:\n",
    "    print(solution2(value[0],value[1]), solution1(value[0],value[1]), solution2(value[0],value[1])==solution1(value[0],value[1]), value)"
   ]
  },
  {
   "cell_type": "code",
   "execution_count": 51,
   "metadata": {},
   "outputs": [
    {
     "name": "stdout",
     "output_type": "stream",
     "text": [
      "2 1 False [9, 1]\n",
      "0 0 True [1, 2]\n",
      "4 4 True [9, 9]\n",
      "1 1 True [5, 2]\n",
      "0 0 True [1, 1]\n",
      "50 50 True [100, 101]\n",
      "250000 3 False [3, 1000000]\n"
     ]
    }
   ],
   "source": [
    "for value in values:\n",
    "    print(solution3(value[0],value[1]), solution1(value[0],value[1]), solution3(value[0],value[1])==solution1(value[0],value[1]), value)"
   ]
  },
  {
   "cell_type": "code",
   "execution_count": 43,
   "metadata": {},
   "outputs": [
    {
     "name": "stdout",
     "output_type": "stream",
     "text": [
      "2 1 False [9, 1]\n",
      "2 1 False [1, 9]\n",
      "4 4 True [9, 9]\n",
      "1 1 True [5, 2]\n",
      "1 0 False [1, 1]\n",
      "50 50 True [100, 101]\n",
      "250000 3 False [3, 1000000]\n"
     ]
    }
   ],
   "source": [
    "for value in values:\n",
    "    print(solution4(value[0],value[1]), solution1(value[0],value[1]), solution4(value[0],value[1])==solution1(value[0],value[1]), value)"
   ]
  },
  {
   "cell_type": "code",
   "execution_count": 54,
   "metadata": {},
   "outputs": [
    {
     "name": "stdout",
     "output_type": "stream",
     "text": [
      "2 1 False [9, 1]\n",
      "1 0 False [1, 2]\n",
      "4 4 True [9, 9]\n",
      "1 1 True [5, 2]\n",
      "0 0 True [1, 1]\n",
      "50 50 True [100, 101]\n",
      "500000 3 False [3, 1000000]\n"
     ]
    }
   ],
   "source": [
    "for value in values:\n",
    "    print(solution5(value[0],value[1]), solution1(value[0],value[1]), solution5(value[0],value[1])==solution1(value[0],value[1]), value)\n"
   ]
  },
  {
   "cell_type": "code",
   "execution_count": 45,
   "metadata": {},
   "outputs": [
    {
     "name": "stdout",
     "output_type": "stream",
     "text": [
      "2 1 False [9, 1]\n",
      "2 1 False [1, 9]\n",
      "4 4 True [9, 9]\n",
      "1 1 True [5, 2]\n",
      "0 0 True [1, 1]\n",
      "50 50 True [100, 101]\n",
      "250000 3 False [3, 1000000]\n"
     ]
    }
   ],
   "source": [
    "for value in values:\n",
    "    print(solution6(value[0],value[1]), solution1(value[0],value[1]), solution6(value[0],value[1])==solution1(value[0],value[1]), value)"
   ]
  }
 ],
 "metadata": {
  "kernelspec": {
   "display_name": "base",
   "language": "python",
   "name": "python3"
  },
  "language_info": {
   "codemirror_mode": {
    "name": "ipython",
    "version": 3
   },
   "file_extension": ".py",
   "mimetype": "text/x-python",
   "name": "python",
   "nbconvert_exporter": "python",
   "pygments_lexer": "ipython3",
   "version": "3.11.7"
  }
 },
 "nbformat": 4,
 "nbformat_minor": 2
}
